{
 "cells": [
  {
   "cell_type": "code",
   "execution_count": 1,
   "metadata": {},
   "outputs": [
    {
     "name": "stdout",
     "output_type": "stream",
     "text": [
      "5\n"
     ]
    }
   ],
   "source": [
    "import numpy as np\n",
    "print(np.right_shift(20,2))"
   ]
  },
  {
   "cell_type": "code",
   "execution_count": 2,
   "metadata": {},
   "outputs": [
    {
     "name": "stdout",
     "output_type": "stream",
     "text": [
      "[1 2 3 4 5]\n"
     ]
    }
   ],
   "source": [
    "import numpy as np\n",
    "x = np.arange(1,6)\n",
    "print(x)"
   ]
  },
  {
   "cell_type": "code",
   "execution_count": 3,
   "metadata": {},
   "outputs": [
    {
     "name": "stdout",
     "output_type": "stream",
     "text": [
      "[53 41 27 25 33]\n"
     ]
    }
   ],
   "source": [
    "import numpy as np\n",
    "m = np.array([48,36,22,20,28])\n",
    "print(m+5)"
   ]
  },
  {
   "cell_type": "code",
   "execution_count": 7,
   "metadata": {},
   "outputs": [
    {
     "name": "stdout",
     "output_type": "stream",
     "text": [
      "[4 8 6]\n"
     ]
    }
   ],
   "source": [
    "x = np.arange(10, 1, -2)\n",
    "#Chỉ số được đặc tả bên trong np.array\n",
    "print(x[np.array([3,1,2])])"
   ]
  },
  {
   "cell_type": "code",
   "execution_count": 8,
   "metadata": {},
   "outputs": [
    {
     "name": "stdout",
     "output_type": "stream",
     "text": [
      "[144 108  36  60  84]\n"
     ]
    }
   ],
   "source": [
    "import numpy as np\n",
    "m = np.array([48,36,12,20,28])\n",
    "print(m*3)"
   ]
  },
  {
   "cell_type": "code",
   "execution_count": 9,
   "metadata": {},
   "outputs": [
    {
     "name": "stdout",
     "output_type": "stream",
     "text": [
      "7\n"
     ]
    }
   ],
   "source": [
    "import numpy as np\n",
    "x = np.array([1,2,3,4])\n",
    "print(x[2]+x[3])"
   ]
  },
  {
   "cell_type": "code",
   "execution_count": 10,
   "metadata": {},
   "outputs": [
    {
     "name": "stdout",
     "output_type": "stream",
     "text": [
      "[1 2 8 4 5 9 7 3 6]\n"
     ]
    }
   ],
   "source": [
    "x = [1, 2, 8]\n",
    "x = np.append(x, [[4, 5, 9], [7, 3, 6]])\n",
    "print(x)"
   ]
  },
  {
   "cell_type": "code",
   "execution_count": null,
   "metadata": {},
   "outputs": [],
   "source": []
  },
  {
   "cell_type": "code",
   "execution_count": 15,
   "metadata": {},
   "outputs": [
    {
     "name": "stdout",
     "output_type": "stream",
     "text": [
      "[13 12]\n"
     ]
    }
   ],
   "source": [
    "import numpy as np\n",
    "x = np.array([[2, 11, 0], [4, 3, 5]])\n",
    "y = x.sum(axis=1)\n",
    "print(y)"
   ]
  },
  {
   "cell_type": "code",
   "execution_count": 16,
   "metadata": {},
   "outputs": [
    {
     "name": "stdout",
     "output_type": "stream",
     "text": [
      "[1 2 3 4 5]\n"
     ]
    }
   ],
   "source": []
  },
  {
   "cell_type": "code",
   "execution_count": 17,
   "metadata": {},
   "outputs": [
    {
     "name": "stdout",
     "output_type": "stream",
     "text": [
      "[ 3 11]\n"
     ]
    }
   ],
   "source": [
    "print(np.bitwise_or([2, 8],[3, 3]))"
   ]
  },
  {
   "cell_type": "code",
   "execution_count": 18,
   "metadata": {},
   "outputs": [
    {
     "name": "stdout",
     "output_type": "stream",
     "text": [
      "[5 7 9]\n"
     ]
    }
   ],
   "source": [
    "import numpy as np\n",
    "x = np.array([1,2,3])\n",
    "y = np.array([4,5,6])\n",
    "z = x+y\n",
    "print(z)"
   ]
  },
  {
   "cell_type": "code",
   "execution_count": 19,
   "metadata": {},
   "outputs": [
    {
     "name": "stdout",
     "output_type": "stream",
     "text": [
      "[47 35 21 19 27]\n"
     ]
    }
   ],
   "source": [
    "import numpy as np\n",
    "m = np.array([48,36,22,20,28])\n",
    "print(m-1)"
   ]
  },
  {
   "cell_type": "code",
   "execution_count": 20,
   "metadata": {},
   "outputs": [
    {
     "name": "stdout",
     "output_type": "stream",
     "text": [
      "[24. 18. 11. 10. 14.]\n"
     ]
    }
   ],
   "source": [
    "import numpy as np\n",
    "m = np.array([48,36,22,20,28])\n",
    "print(m/2)"
   ]
  },
  {
   "cell_type": "code",
   "execution_count": 21,
   "metadata": {},
   "outputs": [
    {
     "name": "stdout",
     "output_type": "stream",
     "text": [
      "[1.75 0.4  0.5 ]\n"
     ]
    }
   ],
   "source": [
    "import numpy as np\n",
    "x = np.array([7,2,3])\n",
    "y = np.array([4,5,6])\n",
    "z = x/y\n",
    "print(z)"
   ]
  },
  {
   "cell_type": "code",
   "execution_count": 22,
   "metadata": {},
   "outputs": [
    {
     "name": "stdout",
     "output_type": "stream",
     "text": [
      "18\n"
     ]
    }
   ],
   "source": [
    "import numpy as np\n",
    "x = np.array([[2, 11, 7], [4, 3, 18]])\n",
    "y = x.max()\n",
    "print(y)"
   ]
  },
  {
   "cell_type": "code",
   "execution_count": 50,
   "metadata": {},
   "outputs": [
    {
     "name": "stdout",
     "output_type": "stream",
     "text": [
      "[[ 1  4  7]\n",
      " [10 13 16]\n",
      " [19 22 25]]\n"
     ]
    }
   ],
   "source": [
    "import numpy as np\n",
    "\n",
    "x = np.arange(1, 28).reshape(3, 3, 3)\n",
    "v = x[:, :, 0]  # Chỉ lấy cột đầu tiên của mỗi ma trận con\n",
    "print(v)\n"
   ]
  },
  {
   "cell_type": "code",
   "execution_count": 1,
   "metadata": {},
   "outputs": [
    {
     "name": "stdout",
     "output_type": "stream",
     "text": [
      "[[0. 0. 0.]\n",
      " [0. 0. 0.]]\n"
     ]
    }
   ],
   "source": [
    "import numpy as np\n",
    "x = np.zeros((2,3))\n",
    "print(x)"
   ]
  },
  {
   "cell_type": "code",
   "execution_count": 2,
   "metadata": {},
   "outputs": [
    {
     "name": "stdout",
     "output_type": "stream",
     "text": [
      "[ 7 10]\n"
     ]
    }
   ],
   "source": [
    "x = np.array([7, 10, 20, 40, 60])\n",
    "y = [7, 30, 10]\n",
    "print(np.intersect1d(x, y))"
   ]
  },
  {
   "cell_type": "code",
   "execution_count": 3,
   "metadata": {},
   "outputs": [
    {
     "name": "stdout",
     "output_type": "stream",
     "text": [
      "False True\n"
     ]
    }
   ],
   "source": [
    "print(np.all([10, 20, 0, -50]), np.all([10, 20, -50]))"
   ]
  },
  {
   "cell_type": "code",
   "execution_count": 5,
   "metadata": {},
   "outputs": [
    {
     "name": "stdout",
     "output_type": "stream",
     "text": [
      "Phần tử thứ hai trên dòng thứ nhất:  2\n"
     ]
    }
   ],
   "source": [
    "import numpy as np\n",
    "a = np.array([[1,2,3,4,5], [6,7,8,9,10]])\n",
    "print('Phần tử thứ hai trên dòng thứ nhất: ', a[0,1])"
   ]
  },
  {
   "cell_type": "code",
   "execution_count": 6,
   "metadata": {},
   "outputs": [
    {
     "name": "stdout",
     "output_type": "stream",
     "text": [
      "[1 2 3]\n"
     ]
    }
   ],
   "source": [
    "x = np.array([[1, 1], [2, 3]])\n",
    "print(np.unique(x))"
   ]
  },
  {
   "cell_type": "code",
   "execution_count": 7,
   "metadata": {},
   "outputs": [
    {
     "name": "stdout",
     "output_type": "stream",
     "text": [
      "15\n"
     ]
    }
   ],
   "source": [
    "import numpy as np\n",
    "x = np.array([[2, 1, 0], [4, 3, 5]])\n",
    "y = x.sum()\n",
    "print(y)"
   ]
  },
  {
   "cell_type": "code",
   "execution_count": 11,
   "metadata": {},
   "outputs": [
    {
     "name": "stdout",
     "output_type": "stream",
     "text": [
      "[7 2 3]\n"
     ]
    }
   ],
   "source": [
    "import numpy as np\n",
    "x = np.array([7,2,3])\n",
    "print(x)"
   ]
  },
  {
   "cell_type": "code",
   "execution_count": 16,
   "metadata": {},
   "outputs": [
    {
     "name": "stdout",
     "output_type": "stream",
     "text": [
      "Vidu 1:\n",
      " [[0 1 2 3]\n",
      " [3 4 5 6]\n",
      " [6 7 8 9]]\n",
      "Vidu 2:\n",
      " [[0 1 2 3 4]\n",
      " [2 3 4 5 6]\n",
      " [4 5 6 7 8]]\n"
     ]
    }
   ],
   "source": [
    "import numpy as np # sai\n",
    "def f(x,m,s):\n",
    "    # n = ...\n",
    "    return np.array([x[k:k+m] for k in range(0,len(x)-m+1,s)])\n",
    "print('Vidu 1:\\n',f(np.arange(10),4,3))\n",
    "print('Vidu 2:\\n',f(np.arange(10),5,2))"
   ]
  },
  {
   "cell_type": "code",
   "execution_count": 17,
   "metadata": {},
   "outputs": [
    {
     "name": "stdout",
     "output_type": "stream",
     "text": [
      "[10  8  6  4  2]\n"
     ]
    }
   ],
   "source": [
    "x = np.arange(10, 1, -2)\n",
    "print(x)"
   ]
  },
  {
   "cell_type": "code",
   "execution_count": 63,
   "metadata": {},
   "outputs": [
    {
     "data": {
      "image/png": "[encoded data removed]",
      "text/plain": [
       "<Figure size 432x288 with 1 Axes>"
      ]
     },
     "metadata": {
      "needs_background": "light"
     },
     "output_type": "display_data"
    }
   ],
   "source": [
    "import numpy as np\n",
    "import matplotlib.pyplot as plt\n",
    "x = np.linspace(1,20,15)\n",
    "np.random.seed(1)\n",
    "y = np.random.randint(0,10,15)\n",
    "plt.plot(x,y)\n",
    "plt.legend(['Solid'],loc=3)\n",
    "plt.show()\n",
    "#Trả lời:['Solid'],loc=3"
   ]
  },
  {
   "cell_type": "code",
   "execution_count": 54,
   "metadata": {},
   "outputs": [],
   "source": [
    "import numpy as np\n",
    "x = np.array(18)"
   ]
  },
  {
   "cell_type": "markdown",
   "metadata": {},
   "source": [
    "What Python features does Matplotlib offer?\n",
    "Trả lời:Data visualization"
   ]
  },
  {
   "cell_type": "code",
   "execution_count": 55,
   "metadata": {},
   "outputs": [
    {
     "name": "stdout",
     "output_type": "stream",
     "text": [
      "[array([[10, 11, 12],\n",
      "       [13, 14, 15]]), array([[16, 17, 18],\n",
      "       [19, 20, 21]]), array([[22, 23, 24],\n",
      "       [25, 26, 27]]), array([[28, 29, 30],\n",
      "       [31, 32, 33]])]\n"
     ]
    }
   ],
   "source": [
    "import numpy as np\n",
    "yourArray = np.arange(10, 34, 1)\n",
    "yourArray = yourArray.reshape(8,3)\n",
    "x = np.split(yourArray, 4)\n",
    "print(x)\n",
    "# Trả lời:split(yourArray, 4)"
   ]
  },
  {
   "cell_type": "code",
   "execution_count": 66,
   "metadata": {},
   "outputs": [
    {
     "name": "stdout",
     "output_type": "stream",
     "text": [
      "[[ 400 1521 1089]\n",
      " [ 625  625  784]]\n"
     ]
    }
   ],
   "source": [
    "import numpy as np\n",
    "\n",
    "a = np.array([[5, 6, 9], [21, 18, 27]])\n",
    "b = np.array([[15, 33, 24], [4, 7, 1]])\n",
    "c = a + b\n",
    "\n",
    "for x in np.nditer(c, op_flags=['readwrite']):\n",
    "    x[...] = x*x\n",
    "\n",
    "print(c)\n",
    "#Trả lời:..."
   ]
  },
  {
   "cell_type": "code",
   "execution_count": 72,
   "metadata": {},
   "outputs": [
    {
     "name": "stdout",
     "output_type": "stream",
     "text": [
      "Tổng của list là 49\n"
     ]
    }
   ],
   "source": [
    "from collections import Counter\n",
    "L = [17,3,4,25]\n",
    "c = Counter(L)\n",
    "s = 0\n",
    "for a,b in c.items():\n",
    "    s += a*b\n",
    "print(\"Tổng của list là\",s)\n",
    "#Trả lời:a,b in c.items():"
   ]
  },
  {
   "cell_type": "code",
   "execution_count": 77,
   "metadata": {},
   "outputs": [
    {
     "name": "stdout",
     "output_type": "stream",
     "text": [
      "[[100 110]\n",
      " [120 130]\n",
      " [140 150]\n",
      " [160 170]\n",
      " [180 190]]\n"
     ]
    }
   ],
   "source": [
    "import numpy as np\n",
    "x = np.arange(100,200,10)\n",
    "yzx = x.reshape(5,2)\n",
    "print(yzx)\n",
    "#Trả lời:100,200,10"
   ]
  },
  {
   "cell_type": "code",
   "execution_count": 101,
   "metadata": {},
   "outputs": [
    {
     "name": "stdout",
     "output_type": "stream",
     "text": [
      "(1, 2, 3)\n"
     ]
    }
   ],
   "source": [
    "import numpy as np\n",
    "a = np.array([[[1,2,3],[4,5,6]]])\n",
    "print(a.shape)\n",
    "#Trả lời:.shape"
   ]
  },
  {
   "cell_type": "code",
   "execution_count": 104,
   "metadata": {},
   "outputs": [
    {
     "name": "stdout",
     "output_type": "stream",
     "text": [
      "3\n"
     ]
    }
   ],
   "source": [
    "import numpy as np\n",
    "a = np.array([[[1,2,3],[4,5,6]]])\n",
    "print(a[0,0,2])\n",
    "#Trả lời:[0,0,2]"
   ]
  },
  {
   "cell_type": "code",
   "execution_count": 130,
   "metadata": {
    "scrolled": true
   },
   "outputs": [
    {
     "data": {
      "image/png": "[encoded data removed]",
      "text/plain": [
       "<Figure size 432x288 with 1 Axes>"
      ]
     },
     "metadata": {
      "needs_background": "light"
     },
     "output_type": "display_data"
    }
   ],
   "source": [
    "import matplotlib.pyplot as plt\n",
    "import numpy as np\n",
    "\n",
    "x = np.array([-2, -1, 0, 1, 2])\n",
    "y1 = x * 0\n",
    "y2 = x * x\n",
    "\n",
    "plt.plot(x,y2,alpha=0.2)\n",
    "plt.plot(x,y1,alpha=0.5)\n",
    "plt.plot(x,-y2,alpha=1)\n",
    "\n",
    "plt.legend([\"op = 0.2\", \"op = 0.5\", \"op = 1\"])\n",
    "plt.show()\n",
    "#Trả lời:x,y2,alpha=;x,y1,alpha=;x,-y2,alpha="
   ]
  },
  {
   "cell_type": "markdown",
   "metadata": {},
   "source": [
    "In Matplotlib, which of the following functions is used to make a scatter plot?\n",
    "Trả lời: scatter()"
   ]
  },
  {
   "cell_type": "code",
   "execution_count": 132,
   "metadata": {},
   "outputs": [
    {
     "name": "stdout",
     "output_type": "stream",
     "text": [
      "[array([[10, 11, 12],\n",
      "       [13, 14, 15]]), array([[16, 17, 18],\n",
      "       [19, 20, 21]]), array([[22, 23, 24],\n",
      "       [25, 26, 27]]), array([[28, 29, 30],\n",
      "       [31, 32, 33]])]\n"
     ]
    }
   ],
   "source": [
    "import numpy as np\n",
    "yourArray = np.arange(10,34,1)\n",
    "yourArray = yourArray.reshape(8,3)\n",
    "x = np.split(yourArray,4)\n",
    "print(x)\n",
    "#Trả lời:split(yourArray,4"
   ]
  },
  {
   "cell_type": "code",
   "execution_count": 133,
   "metadata": {},
   "outputs": [
    {
     "name": "stdout",
     "output_type": "stream",
     "text": [
      "[ True False False  True False]\n"
     ]
    }
   ],
   "source": [
    "x = np.array([0,10,20,40,60])\n",
    "y = [0,40]\n",
    "print(np.in1d(x,y))"
   ]
  },
  {
   "cell_type": "code",
   "execution_count": 136,
   "metadata": {},
   "outputs": [
    {
     "name": "stdout",
     "output_type": "stream",
     "text": [
      "x > y\n",
      "[False  True False]\n",
      "x <= y\n",
      "[ True False  True]\n"
     ]
    }
   ],
   "source": [
    "import numpy as np\n",
    "x = np.array([108,99,89])\n",
    "y = np.array([897,95,121])\n",
    "print(\"x > y\")\n",
    "print(np.greater(x,y))\n",
    "print(\"x <= y\")\n",
    "print(np.invert(np.greater(x,y)))"
   ]
  },
  {
   "cell_type": "raw",
   "metadata": {},
   "source": [
    "def  your_fun(name,age):\n",
    "    print(name,age)\n",
    "Trả lời: your_fun(\"NamTrung\",age=23)\n",
    "your_fun(age=23,name=\"NamTrung\")"
   ]
  },
  {
   "cell_type": "code",
   "execution_count": 144,
   "metadata": {},
   "outputs": [
    {
     "name": "stdout",
     "output_type": "stream",
     "text": [
      "name 22\n"
     ]
    }
   ],
   "source": [
    "def yourFunc(name,age=20):\n",
    "    print(name,age)\n",
    "yourFunc('name',22)\n",
    "# Trả lời:'name',22"
   ]
  },
  {
   "cell_type": "code",
   "execution_count": 145,
   "metadata": {},
   "outputs": [
    {
     "name": "stdout",
     "output_type": "stream",
     "text": [
      "[-37, -54]\n"
     ]
    }
   ],
   "source": [
    "l = [11,-37,25,43,-54]\n",
    "print([x for a,x in enumerate(l)if x<0])\n",
    "#Trả lời:numerate(l)if x<0]"
   ]
  },
  {
   "cell_type": "code",
   "execution_count": 146,
   "metadata": {},
   "outputs": [
    {
     "name": "stdout",
     "output_type": "stream",
     "text": [
      "49\n"
     ]
    }
   ],
   "source": [
    "def sumlist(a,low,high):\n",
    "    if low == high:\n",
    "        return a[low]\n",
    "    m = (low + high)//2\n",
    "    l = sumlist(a,low,m)\n",
    "    r = sumlist(a,m+1,high)\n",
    "    return l+r\n",
    "L = [5,22,13,9]\n",
    "print(sumlist(L,0,len(L)-1))\n",
    "#Trả lời:(a,m+1,high)"
   ]
  },
  {
   "cell_type": "code",
   "execution_count": 152,
   "metadata": {},
   "outputs": [
    {
     "name": "stdout",
     "output_type": "stream",
     "text": [
      "(1, 2, 3)\n"
     ]
    }
   ],
   "source": [
    "import numpy as np\n",
    "\n",
    "a = np.array([[[1, 2, 3], [4, 5, 6]]])\n",
    "print(tuple(a[0, 0]))\n",
    "#Trả lời:tuple(a[0,0])"
   ]
  },
  {
   "cell_type": "raw",
   "metadata": {},
   "source": [
    "What is the purpose of the xticks() function in Matplotlib?\n",
    "Trả lời: Set the x-axis ticks\n"
   ]
  },
  {
   "cell_type": "code",
   "execution_count": 171,
   "metadata": {},
   "outputs": [
    {
     "name": "stdout",
     "output_type": "stream",
     "text": [
      "[33, 11, 22]\n"
     ]
    }
   ],
   "source": [
    "def xoaytrai(a,n,d): #sai\n",
    "    t = []\n",
    "    i = 0\n",
    "    while (i<d):\n",
    "        t.append(a[i])\n",
    "        i = i+1\n",
    "    i = 0\n",
    "    while (d<n):\n",
    "        a[i] = a[d]\n",
    "        i = i+1\n",
    "        d = d+1\n",
    "    a[:] = a[:1] + t\n",
    "    return a\n",
    "\n",
    "L = [11,22,33,44,55,66]\n",
    "print(xoaytrai(L,len(L),2))"
   ]
  },
  {
   "cell_type": "code",
   "execution_count": 172,
   "metadata": {},
   "outputs": [
    {
     "name": "stdout",
     "output_type": "stream",
     "text": [
      "Sau khi đổi chỗ phần tử đầu và cuối: [42, 53, 9, 65, 12]\n"
     ]
    }
   ],
   "source": [
    "def swapFirstLast(ls):\n",
    "    if len(ls)>=2:\n",
    "        ls = ls[-1:] + ls[1:-1] + ls[:1]\n",
    "    return ls\n",
    "x = [12,53,9,65,42]\n",
    "kq = swapFirstLast(x)\n",
    "print(\"Sau khi đổi chỗ phần tử đầu và cuối:\",kq)\n",
    "#Trả lời:1:-1"
   ]
  },
  {
   "cell_type": "code",
   "execution_count": 175,
   "metadata": {},
   "outputs": [
    {
     "name": "stdout",
     "output_type": "stream",
     "text": [
      "Các giá trị xuất hiện thường nhất trong mảng a là:\n",
      "1 3 "
     ]
    }
   ],
   "source": [
    "a = np.array([1,1,1,2,3,4,2,4,3,3,])\n",
    "print(\"Các giá trị xuất hiện thường nhất trong mảng a là:\")\n",
    "b = np.bincount(a)\n",
    "for i in range(len(b)):\n",
    "    if b[i]==max(b):\n",
    "        print(i,end=\" \")\n",
    "#Trả lời:b[i]=="
   ]
  },
  {
   "cell_type": "code",
   "execution_count": 176,
   "metadata": {},
   "outputs": [
    {
     "name": "stdout",
     "output_type": "stream",
     "text": [
      "[15 18 12 11 13]\n"
     ]
    }
   ],
   "source": [
    "import numpy as np\n",
    "x = np.array([5,8,2,1,3])\n",
    "y = np.array([2,0,1,2,1])\n",
    "z = x+ y+10-y\n",
    "print(z)\n",
    "#Trả lời:+10-"
   ]
  },
  {
   "cell_type": "code",
   "execution_count": 177,
   "metadata": {},
   "outputs": [
    {
     "name": "stdout",
     "output_type": "stream",
     "text": [
      "3 8 24\n"
     ]
    }
   ],
   "source": [
    "x = np.array([1,2,3], dtype=np.float64)\n",
    "print(x.size, x.itemsize, x.nbytes)"
   ]
  },
  {
   "cell_type": "code",
   "execution_count": 179,
   "metadata": {},
   "outputs": [
    {
     "name": "stdout",
     "output_type": "stream",
     "text": [
      "[0 1 2 3 4 5 6 7 8 9]\n"
     ]
    }
   ],
   "source": [
    "import numpy as np\n",
    "arr1 = np.arange(3)\n",
    "arr2 = np.arange(3,7)\n",
    "arr3 = np.arange(7,10)\n",
    "arr_2d = np.concatenate([arr1,arr2,arr3])\n",
    "print(arr_2d)\n",
    "#Trả lời:concatenate"
   ]
  },
  {
   "cell_type": "code",
   "execution_count": 180,
   "metadata": {},
   "outputs": [
    {
     "name": "stdout",
     "output_type": "stream",
     "text": [
      "3\n"
     ]
    }
   ],
   "source": [
    "import numpy as np\n",
    "a = np.array([[[1,2,3],[4,5,6]]])\n",
    "print(a.ndim)\n",
    "#Trả lời:.ndim"
   ]
  },
  {
   "cell_type": "code",
   "execution_count": 181,
   "metadata": {},
   "outputs": [
    {
     "name": "stdout",
     "output_type": "stream",
     "text": [
      "(8, 7)\n"
     ]
    }
   ],
   "source": [
    "def add(a,b):\n",
    "    return a+5,b+5\n",
    "ketqua = add(3,2)\n",
    "print(ketqua)\n",
    "#Trả lời:a+5,b+5"
   ]
  },
  {
   "cell_type": "code",
   "execution_count": 182,
   "metadata": {},
   "outputs": [
    {
     "name": "stdout",
     "output_type": "stream",
     "text": [
      "3\n"
     ]
    }
   ],
   "source": [
    "import numpy as np\n",
    "a = np.array([[[1,2,3],[4,5,6]]])\n",
    "print(a.item(2))\n",
    "#Trả lời:.item(2)"
   ]
  },
  {
   "cell_type": "code",
   "execution_count": 183,
   "metadata": {},
   "outputs": [
    {
     "name": "stdout",
     "output_type": "stream",
     "text": [
      "Phần tử cuối cùng từ chiếu thứ hai: 10\n"
     ]
    }
   ],
   "source": [
    "import numpy as np\n",
    "arr = np.array([[1,2,3,4,5], [6,7,8,9,10]])\n",
    "print(\"Phần tử cuối cùng từ chiếu thứ hai:\", arr[1,-1])\n",
    "#Trả lời:10"
   ]
  },
  {
   "cell_type": "code",
   "execution_count": 184,
   "metadata": {},
   "outputs": [
    {
     "name": "stdout",
     "output_type": "stream",
     "text": [
      "12\n"
     ]
    }
   ],
   "source": [
    "def ngoai_fun(a,b):\n",
    "    def trong_fun(c,d):\n",
    "        return c+d\n",
    "    return trong_fun(a,b)\n",
    "print(ngoai_fun(7,5))\n",
    "#Trả lời:rong_fun(a,b)"
   ]
  },
  {
   "cell_type": "code",
   "execution_count": 185,
   "metadata": {},
   "outputs": [
    {
     "name": "stdout",
     "output_type": "stream",
     "text": [
      "[{'tên': 'Nam', 'tuổi': 20}, {'tên': 'Nhung', 'tuổi': 20}, {'tên': 'Chính', 'tuổi': 19}]\n"
     ]
    }
   ],
   "source": [
    "L = [{\"tên\":\"Nhung\",\"tuổi\":20},{\"tên\":\"Nam\",\"tuổi\":20},{\"tên\":\"Chính\",\"tuổi\":19}]\n",
    "print(sorted(L,key=lambda i:(-i[\"tuổi\"],i[\"tên\"])))\n",
    "#Trả lời:(-i[\"tuổi\"],i[\"tên\"])))"
   ]
  },
  {
   "cell_type": "code",
   "execution_count": 186,
   "metadata": {},
   "outputs": [
    {
     "name": "stdout",
     "output_type": "stream",
     "text": [
      "[[ 6 12]\n",
      " [30 36]\n",
      " [54 60]]\n"
     ]
    }
   ],
   "source": [
    "yourArray = np.array([[3,6,9,12],[15,18,21,24],[27,30,33,36],[39,42,45,48],[51,54,57,60]])\n",
    "print(yourArray[::2,1::2])\n",
    "#Trả lời:::2,1::2"
   ]
  },
  {
   "cell_type": "raw",
   "metadata": {},
   "source": [
    "Every function in Python produces a value.\n",
    "Trả lời:Đúng\n"
   ]
  },
  {
   "cell_type": "raw",
   "metadata": {},
   "source": [
    "To save a figure to file, which Matplotlib technique is used?\n",
    "Trả lời:savefig()"
   ]
  },
  {
   "cell_type": "raw",
   "metadata": {},
   "source": [
    "Select the Python function that is true.\n",
    "Trả lời: An infinite number of parameters can be passed to a function\n",
    "        Multiple values may be returned by a Python function"
   ]
  },
  {
   "cell_type": "raw",
   "metadata": {},
   "source": [
    "Which of these is a legitimate Matplotlib style?\n",
    "Trả lời:classic"
   ]
  },
  {
   "cell_type": "code",
   "execution_count": 189,
   "metadata": {},
   "outputs": [
    {
     "name": "stdout",
     "output_type": "stream",
     "text": [
      "[83 36 69]\n"
     ]
    }
   ],
   "source": [
    "import numpy as np\n",
    "yourArray = np.array([[12,25,83],[42,75,36],[72,18,69]])\n",
    "newArray = yourArray[:3,-1]\n",
    "print(newArray)\n",
    "#Trả lời::3,-1"
   ]
  },
  {
   "cell_type": "raw",
   "metadata": {},
   "source": [
    "Choose which Python function is true.\n",
    "Trả lời:A function is a section of code that only runs when it is called upon and always outputs a value.\n",
    "        A function can be reused within a program and only ever runs when it is called."
   ]
  },
  {
   "cell_type": "code",
   "execution_count": 199,
   "metadata": {},
   "outputs": [
    {
     "name": "stdout",
     "output_type": "stream",
     "text": [
      "LamAnh FiveMilion "
     ]
    }
   ],
   "source": [
    "def your_show(**kwargs):\n",
    "    for i in kwargs:\n",
    "        print(i,end=' ')\n",
    "your_show(LamAnh=\"Lam Anh\",FiveMilion=5000000)\n",
    "#Trả lời:,FiveMilion="
   ]
  },
  {
   "cell_type": "code",
   "execution_count": 204,
   "metadata": {},
   "outputs": [
    {
     "name": "stdout",
     "output_type": "stream",
     "text": [
      "[3]\n"
     ]
    }
   ],
   "source": [
    "import numpy as np\n",
    "a = np.array([[[1,2,3],[4,5,6]]])\n",
    "print(a[0,0,2:3])\n",
    "#Trả lời:[0,0,2:3]"
   ]
  },
  {
   "cell_type": "code",
   "execution_count": null,
   "metadata": {},
   "outputs": [],
   "source": []
  }
 ],
 "metadata": {
  "kernelspec": {
   "display_name": "Python 3",
   "language": "python",
   "name": "python3"
  },
  "language_info": {
   "codemirror_mode": {
    "name": "ipython",
    "version": 3
   },
   "file_extension": ".py",
   "mimetype": "text/x-python",
   "name": "python",
   "nbconvert_exporter": "python",
   "pygments_lexer": "ipython3",
   "version": "3.7.3"
  }
 },
 "nbformat": 4,
 "nbformat_minor": 2
}
